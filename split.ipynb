{
 "cells": [
  {
   "cell_type": "code",
   "execution_count": 13,
   "id": "0fdd938b-629f-4762-96dd-428862805d90",
   "metadata": {},
   "outputs": [],
   "source": [
    "import json\n",
    "import argparse\n",
    "from collections import defaultdict,Counter\n",
    "from sklearn.model_selection import train_test_split\n",
    "\n",
    "def split_coco_by_material(coco_json_path, train_out, test_out, test_size=0.2, random_state=72):\n",
    "    \"\"\"\n",
    "    Splits a COCO dataset into train/test text files stratified by material composition.\n",
    "\n",
    "    Parameters\n",
    "    ----------\n",
    "    coco_json_path : str\n",
    "        Path to COCO-style annotation JSON.\n",
    "    train_out : str\n",
    "        Path to output train.txt.\n",
    "    test_out : str\n",
    "        Path to output test.txt.\n",
    "    test_size : float\n",
    "        Fraction for test split (e.g. 0.2 for 20%).\n",
    "    random_state : int\n",
    "        Random seed for reproducibility.\n",
    "    \"\"\"\n",
    "\n",
    "    with open(coco_json_path, \"r\") as f:\n",
    "        coco = json.load(f)\n",
    "\n",
    "    # Map image_id -> file_name\n",
    "    id2name = {img[\"id\"]: img[\"file_name\"].split('_')[0] for img in coco[\"images\"]}\n",
    "\n",
    "    # Collect textile compositions per image\n",
    "    image_materials = defaultdict(set)\n",
    "\n",
    "    for ann in coco[\"annotations\"]:\n",
    "        if ann.get(\"category_id\") is None:\n",
    "            continue\n",
    "\n",
    "        # Get category name\n",
    "        cat_id = ann[\"category_id\"]\n",
    "        cat_name = next((c[\"name\"] for c in coco[\"categories\"] if c[\"id\"] == cat_id), None)\n",
    "\n",
    "        if cat_name != \"textile\":\n",
    "            continue\n",
    "\n",
    "        # Extract material attributes (dict of {material: percentage})\n",
    "        attributes = ann.get(\"attributes\", {})\n",
    "        \n",
    "        for material, perc in attributes.items():\n",
    "            if perc > 0:\n",
    "                image_materials[ann[\"image_id\"]].add(material)\n",
    "                \n",
    "    # Build dataset (image_name, composition_label)\n",
    "    data = []\n",
    "    for img_id, file_name in id2name.items():\n",
    "        if img_id in image_materials:\n",
    "            composition = \"_\".join(sorted(image_materials[img_id]))\n",
    "            data.append((file_name, composition))\n",
    "\n",
    "    if not data:\n",
    "        raise ValueError(\"No textile images found in dataset!\")\n",
    "    counts = Counter([d[1] for d in data])\n",
    "    filtered_data = [d for d in data if counts[d[1]] > 1]\n",
    "    X = [d[0] for d in filtered_data]   # file names\n",
    "    y = [d[1] for d in filtered_data]   # composition labels\n",
    "    print(y)\n",
    "    # Stratified split\n",
    "    X_train, X_test, _, _ = train_test_split(\n",
    "        X, y, test_size=test_size, random_state=random_state, stratify=y\n",
    "    )\n",
    "\n",
    "    # Write outputs\n",
    "    with open(train_out, \"w\") as f:\n",
    "        f.write(\"\\n\".join(X_train))\n",
    "    with open(test_out, \"w\") as f:\n",
    "        f.write(\"\\n\".join(X_test))\n",
    "\n",
    "    print(f\"Train split: {len(X_train)} images\")\n",
    "    print(f\"Test split: {len(X_test)} images\")"
   ]
  },
  {
   "cell_type": "code",
   "execution_count": 14,
   "id": "cfdf9e91-d666-4741-9c18-6a53598d7727",
   "metadata": {
    "scrolled": true
   },
   "outputs": [
    {
     "name": "stdout",
     "output_type": "stream",
     "text": [
      "['elastan_polyester', 'nylon_viscosa', 'acrylic', 'nylon_viscosa', 'wool', 'polyester_wool', 'cotton_polyester', 'cotton_polyester', 'cotton', 'polyester', 'cotton_elastan', 'acrylic_wool', 'acrylic_wool', 'cotton_polyester', 'acrylic', 'nylon', 'cotton', 'elastan_polyester', 'nylon', 'cotton_elastan', 'cotton', 'acrylic_wool', 'cotton', 'acrylic_wool', 'cotton', 'nylon_viscosa', 'polyester_wool', 'cotton_elastan', 'polyester_wool', 'cotton_polyester', 'polyester', 'cotton_polyester', 'nylon', 'polyester', 'acrylic_wool', 'nylon', 'polyester_wool', 'wool', 'acrylic_wool', 'acrylic', 'elastan_polyester', 'nylon', 'acrylic_wool', 'cotton', 'acrylic', 'nylon', 'nylon', 'nylon', 'wool', 'cotton', 'polyester_wool', 'cotton', 'polyester', 'polyester_wool', 'cotton_polyester', 'acrylic', 'wool', 'nylon_viscosa', 'cotton', 'acrylic_wool', 'polyester', 'wool', 'cotton_polyester', 'acrylic_wool', 'acrylic', 'cotton', 'nylon', 'acrylic', 'polyester_wool', 'wool', 'cotton_elastan', 'nylon', 'cotton_polyester', 'acrylic', 'nylon', 'cotton_elastan', 'polyester', 'polyester', 'cotton_elastan', 'wool', 'cotton_elastan', 'polyester', 'cotton_polyester', 'polyester', 'acrylic_wool', 'cotton_polyester', 'polyester_wool', 'acrylic_wool', 'acrylic', 'nylon', 'cotton', 'wool', 'cotton_elastan', 'cotton', 'acrylic_wool', 'elastan_polyester', 'acrylic_wool', 'acrylic', 'polyester_wool', 'polyester_wool', 'wool', 'cotton_elastan', 'nylon', 'polyester_wool', 'cotton_polyester', 'acrylic', 'cotton_elastan', 'wool', 'cotton_elastan', 'nylon', 'wool', 'acrylic_wool', 'cotton_polyester', 'cotton', 'cotton', 'cotton_elastan', 'polyester', 'wool']\n",
      "Train split: 94 images\n",
      "Test split: 24 images\n"
     ]
    }
   ],
   "source": [
    "split_coco_by_material('../smartex_acquisition_ws/smartex_textile/labels/smartex_annotations_cocostyle.json','train.txt','test.txt')"
   ]
  },
  {
   "cell_type": "code",
   "execution_count": null,
   "id": "e5ad0328-464a-4713-9b96-01c919ed9603",
   "metadata": {},
   "outputs": [],
   "source": []
  }
 ],
 "metadata": {
  "kernelspec": {
   "display_name": "Python 3 (ipykernel)",
   "language": "python",
   "name": "python3"
  },
  "language_info": {
   "codemirror_mode": {
    "name": "ipython",
    "version": 3
   },
   "file_extension": ".py",
   "mimetype": "text/x-python",
   "name": "python",
   "nbconvert_exporter": "python",
   "pygments_lexer": "ipython3",
   "version": "3.10.13"
  }
 },
 "nbformat": 4,
 "nbformat_minor": 5
}
